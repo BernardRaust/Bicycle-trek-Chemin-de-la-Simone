{
 "cells": [
  {
   "cell_type": "code",
   "execution_count": 2,
   "metadata": {},
   "outputs": [
    {
     "name": "stdout",
     "output_type": "stream",
     "text": [
      "10\n"
     ]
    }
   ],
   "source": [
    "values = { 4:4, 8:8, \"Q\":10, \"ACE\":11 }\n",
    "card = (\"Q\", \"Hearts\")\n",
    "print(values[ card[ 0 ] ] )"
   ]
  },
  {
   "cell_type": "code",
   "execution_count": 15,
   "metadata": {},
   "outputs": [
    {
     "name": "stdout",
     "output_type": "stream",
     "text": [
      "<__main__.Car object at 0x00000271EC41FF60>\n",
      "168019894262\n",
      "-9223371868834881557\n"
     ]
    }
   ],
   "source": [
    "class Car:\n",
    "    pass\n",
    "ford = Car( )\n",
    "subaru = Car( )\n",
    "print(ford)\n",
    "print( hash(ford)) \n",
    "print( hash(subaru) ) "
   ]
  },
  {
   "cell_type": "code",
   "execution_count": 13,
   "metadata": {},
   "outputs": [],
   "source": [
    "class Bus():\n",
    "    pass\n",
    "school_bus = Bus( )"
   ]
  },
  {
   "cell_type": "code",
   "execution_count": 14,
   "metadata": {},
   "outputs": [
    {
     "name": "stdout",
     "output_type": "stream",
     "text": [
      "<__main__.Bus object at 0x00000271EC4D9898>\n"
     ]
    }
   ],
   "source": [
    "print(school_bus)"
   ]
  },
  {
   "cell_type": "code",
   "execution_count": 16,
   "metadata": {},
   "outputs": [
    {
     "name": "stdout",
     "output_type": "stream",
     "text": [
      "red\n"
     ]
    }
   ],
   "source": [
    "class Car( ):\n",
    "    sound = \"beep\"\n",
    "    color = \"red\"\n",
    "ford = Car( )\n",
    "print(ford.color)"
   ]
  },
  {
   "cell_type": "code",
   "execution_count": 17,
   "metadata": {},
   "outputs": [
    {
     "name": "stdout",
     "output_type": "stream",
     "text": [
      "beep\n",
      "honk\n"
     ]
    }
   ],
   "source": [
    "# changing the value of an attribute \n",
    "class Car( ):\n",
    "    sound = \"beep\"\n",
    "    color = \"red\"\n",
    "ford = Car( )\n",
    "print(ford.sound)\n",
    "ford.sound = \"honk\" \n",
    "print(ford.sound)"
   ]
  },
  {
   "cell_type": "code",
   "execution_count": 18,
   "metadata": {},
   "outputs": [
    {
     "name": "stdout",
     "output_type": "stream",
     "text": [
      "blue\n"
     ]
    }
   ],
   "source": [
    "# using the init method to give instances personalized attributes upon creation\n",
    "class Car( ):\n",
    "    def __init__(self, color):\n",
    "        self.color = color\n",
    "ford = Car(\"blue\")\n",
    "print(ford.color)"
   ]
  },
  {
   "cell_type": "code",
   "execution_count": 21,
   "metadata": {},
   "outputs": [
    {
     "name": "stdout",
     "output_type": "stream",
     "text": [
      "blue 2016\n",
      "red 2018\n"
     ]
    }
   ],
   "source": [
    "# defining different values for multiple instances \n",
    "class Car( ):\n",
    "    def __init__(self, color, year):\n",
    "        self.color = color\n",
    "        self.year = year\n",
    "ford = Car(\"blue\", 2016)\n",
    "subaru = Car(\"red\", 2018)\n",
    "print(ford.color, ford.year)\n",
    "print(subaru.color, subaru.year)\n"
   ]
  },
  {
   "cell_type": "code",
   "execution_count": 22,
   "metadata": {},
   "outputs": [
    {
     "name": "stdout",
     "output_type": "stream",
     "text": [
      "beep\n",
      "beep blue\n"
     ]
    }
   ],
   "source": [
    "# using and accessing global class attributes\n",
    "class Car( ):\n",
    "    sound = \"beep\"   # global attribute, accessible through the class itself\n",
    "    def __init__(self, color):\n",
    "        self.color = \"blue\" #  instance specific attribute, not accessible through the class itself\n",
    "print(Car.sound)\n",
    "# print(Car.color)    won't work, color only available to instances of Car class, not the class itself\n",
    "ford = Car(\"blue\")\n",
    "print(ford.sound, ford.color)   # color will work as this is an instance\n"
   ]
  },
  {
   "cell_type": "code",
   "execution_count": 23,
   "metadata": {},
   "outputs": [
    {
     "name": "stdout",
     "output_type": "stream",
     "text": [
      "bark\n"
     ]
    }
   ],
   "source": [
    "# defining and calling our first class method\n",
    "class Dog( ):\n",
    "    def makeSound(self):\n",
    "        print(\"bark\")\n",
    "sam = Dog( )\n",
    "sam.makeSound( )\n",
    "        "
   ]
  },
  {
   "cell_type": "code",
   "execution_count": null,
   "metadata": {},
   "outputs": [],
   "source": []
  }
 ],
 "metadata": {
  "kernelspec": {
   "display_name": "Python 3.7.3 64-bit ('base': conda)",
   "language": "python",
   "name": "python37364bitbaseconda7c8d7a6fcab244beafb84da62ff1fbeb"
  },
  "language_info": {
   "codemirror_mode": {
    "name": "ipython",
    "version": 3
   },
   "file_extension": ".py",
   "mimetype": "text/x-python",
   "name": "python",
   "nbconvert_exporter": "python",
   "pygments_lexer": "ipython3",
   "version": "3.7.3"
  }
 },
 "nbformat": 4,
 "nbformat_minor": 4
}
