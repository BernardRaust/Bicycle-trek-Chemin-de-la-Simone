{
 "cells": [
  {
   "cell_type": "markdown",
   "metadata": {},
   "source": [
    "# Write XML from list of path and values"
   ]
  },
  {
   "cell_type": "markdown",
   "metadata": {},
   "source": [
    "[see program source](https://stackoverflow.com/questions/38984272/write-xml-from-list-of-path-values)\n",
    "\n",
    "This program convert entries (see below) in an XML structure (see below)"
   ]
  },
  {
   "cell_type": "code",
   "execution_count": 14,
   "metadata": {},
   "outputs": [],
   "source": [
    "entries = [\n",
    "        {'Path': 'Item/Info/Name', 'Value': 'Body HD'},\n",
    "        {'Path': 'Item/Info/Synopsis', 'Value': 'A great movie'},\n",
    "        {'Path': 'Item/Locales/Locale[@Country=\"US\"][@Language=\"ES\"]/Name', 'Value': 'El Grecco'},\n",
    "        {'Path': 'Item/Genres/Genre', 'Value': 'Action'},\n",
    "        {'Path': 'Item/Genres/Genre', 'Value': 'Drama'},\n",
    "        {'Path': 'Item/Purchases/Purchase[@Country=\"US\"]/HDPrice', 'Value': '10.99'},\n",
    "        {'Path': 'Item/Purchases/Purchase[@Country=\"US\"]/SDPrice', 'Value': '9.99'},\n",
    "        {'Path': 'Item/Purchases/Purchase[@Country=\"CA\"]/SDPrice', 'Value': '4.99'},\n",
    "    ]"
   ]
  },
  {
   "cell_type": "markdown",
   "metadata": {},
   "source": [
    "    <Item>\n",
    "        <Info>\n",
    "            <Name>Body HD</Name>\n",
    "            <Synopsis>A great movie</Synopsis>\n",
    "        </Info>\n",
    "        <Locales>\n",
    "            <Locale Country=\"US\" Language=\"ES\">\n",
    "                <Name>El Grecco</Name>\n",
    "            </Locale>\n",
    "        </Locales>\n",
    "        <Genres>\n",
    "            <Genre>Action</Genre>\n",
    "            <Genre>Drama</Genre>\n",
    "        </Genres>\n",
    "        <Purchases>\n",
    "            <Purchase Country=\"US\">\n",
    "                <HDPrice>10.99</HDPrice>\n",
    "                <SDPrice>9.99</SDPrice>\n",
    "            </Purchase>\n",
    "            <Purchase Country=\"CA\">\n",
    "                <SDPrice>4.99</SDPrice>\n",
    "            </Purchase>\n",
    "        </Purchases>\n",
    "    </Item>"
   ]
  },
  {
   "cell_type": "code",
   "execution_count": 15,
   "metadata": {},
   "outputs": [],
   "source": [
    "import re\n",
    "from lxml import etree"
   ]
  },
  {
   "cell_type": "markdown",
   "metadata": {},
   "source": [
    "To parse each xpath step, I use the following regular expressions"
   ]
  },
  {
   "cell_type": "code",
   "execution_count": 16,
   "metadata": {},
   "outputs": [],
   "source": [
    "TAG_REGEX = r\"(?P<tag>\\w+)\"                         # capture group named tag. It is tag name\n",
    "CONDITION_REGEX = r\"(?P<condition>(?:\\[.*?\\])*)\"    # capture group named condition. It is attributes\n",
    "STEP_REGEX = TAG_REGEX + CONDITION_REGEX\n",
    "ATTR_REGEX = r\"@(?P<key>\\w+)=\\\"(?P<value>.*?)\\\"\"\n",
    "\n",
    "search_step = re.compile(STEP_REGEX, flags=re.DOTALL).search\n",
    "findall_attr = re.compile(ATTR_REGEX, flags=re.DOTALL).findall\n",
    "\n",
    "def parse_step(step):\n",
    "    mo = search_step(step)\n",
    "    if mo:\n",
    "        tag = mo.group(\"tag\")\n",
    "        condition = mo.group(\"condition\")\n",
    "    return tag, dict(findall_attr(condition))\n",
    "    raise ValueError(xpath)"
   ]
  },
  {
   "cell_type": "markdown",
   "metadata": {},
   "source": [
    "The **parse_step** return a tag name and a attributes dictionary. Then, I process the same way to build the XML tree:"
   ]
  },
  {
   "cell_type": "code",
   "execution_count": 17,
   "metadata": {},
   "outputs": [],
   "source": [
    "from IPython.core.debugger import set_trace"
   ]
  },
  {
   "cell_type": "code",
   "execution_count": 18,
   "metadata": {},
   "outputs": [
    {
     "name": "stdout",
     "output_type": "stream",
     "text": [
      "<Item>\n",
      "  <Info>\n",
      "    <Name>Body HD</Name>\n",
      "    <Synopsis>A great movie</Synopsis>\n",
      "  </Info>\n",
      "  <Locales>\n",
      "    <Locale Country=\"US\" Language=\"ES\">\n",
      "      <Name>El Grecco</Name>\n",
      "    </Locale>\n",
      "  </Locales>\n",
      "  <Genres>\n",
      "    <Genre>Action</Genre>\n",
      "    <Genre>Drama</Genre>\n",
      "  </Genres>\n",
      "  <Purchases>\n",
      "    <Purchase Country=\"US\">\n",
      "      <HDPrice>10.99</HDPrice>\n",
      "      <SDPrice>9.99</SDPrice>\n",
      "    </Purchase>\n",
      "    <Purchase Country=\"CA\">\n",
      "      <SDPrice>4.99</SDPrice>\n",
      "    </Purchase>\n",
      "  </Purchases>\n",
      "</Item>\n",
      "\n"
     ]
    }
   ],
   "source": [
    "# le noeud racine n'existe pas donc sa valeur est nulle\n",
    "root = None\n",
    "\n",
    "for entry in entries:\n",
    "    # path est le pathname de la premiere colonne du tableau\n",
    "    # creation du xpath_list qui est la liste des elements du pathname (separateur est le /)\n",
    "    path = entry[\"Path\"]\n",
    "    parts = path.split(\"/\")\n",
    "    xpath_list = [\"/\" + parts[0]] + parts[1:]\n",
    "    \n",
    "    # initialise le noeud courant sur le noeud racine\n",
    "    curr = root\n",
    "    \n",
    "    # xpath est un element elementaire du pathname \n",
    "    for xpath in xpath_list:\n",
    "        \n",
    "        # tag_name est le nom de l'element et attrs est le dictionnaire des attributs de l'element\n",
    "        tag_name, attrs = parse_step(xpath)\n",
    "\n",
    "        # si le noeud courant est vide, l'element devient la racine\n",
    "        if curr is None:                 \n",
    "            root = curr = etree.Element(tag_name, **attrs)               # creation du noeud racine\n",
    "        else:\n",
    "            nodes = curr.xpath(xpath)   # sinon rechercher l'element dans le noeud courant\n",
    "            if nodes:                   # le noeud courant contient l'element\n",
    "                curr = nodes[0]                     # se positionner sur l'element \n",
    "            else:                       # le noeud courant ne contient pas l'element\n",
    "                                        # créer l'element comme un fils du noeud courant\n",
    "                curr = etree.SubElement(curr, tag_name, **attrs) # créer l'element comme un fils du \n",
    "    \n",
    "    # quand on arrive au bout du pathname on insere la valeur dans le dernier element\n",
    "    if curr.text:                                        \n",
    "        curr = etree.SubElement(curr.getparent(), curr.tag, **curr.attrib)\n",
    "    curr.text = entry[\"Value\"]\n",
    "\n",
    "print(etree.tostring(root, pretty_print=True).decode())"
   ]
  }
 ],
 "metadata": {
  "kernelspec": {
   "display_name": "Python 3",
   "language": "python",
   "name": "python3"
  },
  "language_info": {
   "codemirror_mode": {
    "name": "ipython",
    "version": 3
   },
   "file_extension": ".py",
   "mimetype": "text/x-python",
   "name": "python",
   "nbconvert_exporter": "python",
   "pygments_lexer": "ipython3",
   "version": "3.8.1"
  }
 },
 "nbformat": 4,
 "nbformat_minor": 4
}
