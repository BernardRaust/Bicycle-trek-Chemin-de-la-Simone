{
 "cells": [
  {
   "cell_type": "code",
   "execution_count": 6,
   "metadata": {},
   "outputs": [],
   "source": [
    "from lxml import etree"
   ]
  },
  {
   "cell_type": "code",
   "execution_count": 14,
   "metadata": {},
   "outputs": [
    {
     "name": "stdout",
     "output_type": "stream",
     "text": [
      "<html:html xmlns:html=\"http://www.w3.org/1999/xhtml\">\n",
      "  <html:body>Hello World</html:body>\n",
      "</html:html>\n",
      "\n"
     ]
    }
   ],
   "source": [
    "xhtml = etree.Element(\"{http://www.w3.org/1999/xhtml}html\")\n",
    "body = etree.SubElement(xhtml, \"{http://www.w3.org/1999/xhtml}body\")\n",
    "body.text = \"Hello World\"\n",
    "\n",
    "print(etree.tostring(xhtml, pretty_print=True).decode())"
   ]
  },
  {
   "cell_type": "code",
   "execution_count": 15,
   "metadata": {},
   "outputs": [
    {
     "name": "stdout",
     "output_type": "stream",
     "text": [
      "<html xmlns=\"http://www.w3.org/1999/xhtml\">\n",
      "  <body>Hello World</body>\n",
      "</html>\n",
      "\n"
     ]
    }
   ],
   "source": [
    "XHTML_NAMESPACE = \"http://www.w3.org/1999/xhtml\"\n",
    "XHTML = \"{%s}\" % XHTML_NAMESPACE\n",
    "\n",
    "NSMAP = {None : XHTML_NAMESPACE}                   # the default namespace (no prefix)\n",
    "\n",
    "xhtml = etree.Element(XHTML + \"html\", nsmap=NSMAP) # lxml only!\n",
    "body = etree.SubElement(xhtml, XHTML + \"body\")\n",
    "body.text = \"Hello World\"\n",
    "\n",
    "print(etree.tostring(xhtml, pretty_print=True).decode())"
   ]
  },
  {
   "cell_type": "markdown",
   "metadata": {},
   "source": [
    "You can also use the QName helper class to build or split qualified tag names:"
   ]
  },
  {
   "cell_type": "code",
   "execution_count": 18,
   "metadata": {},
   "outputs": [
    {
     "name": "stdout",
     "output_type": "stream",
     "text": [
      "html\n",
      "http://www.w3.org/1999/xhtml\n",
      "{http://www.w3.org/1999/xhtml}html\n"
     ]
    }
   ],
   "source": [
    "tag = etree.QName('http://www.w3.org/1999/xhtml', 'html')\n",
    "print(tag.localname)\n",
    "print(tag.namespace)\n",
    "print(tag.text)"
   ]
  },
  {
   "cell_type": "code",
   "execution_count": 19,
   "metadata": {},
   "outputs": [
    {
     "name": "stdout",
     "output_type": "stream",
     "text": [
      "html\n",
      "http://www.w3.org/1999/xhtml\n"
     ]
    }
   ],
   "source": [
    "tag = etree.QName('{http://www.w3.org/1999/xhtml}html')\n",
    "print(tag.localname)\n",
    "print(tag.namespace)"
   ]
  },
  {
   "cell_type": "code",
   "execution_count": 20,
   "metadata": {},
   "outputs": [
    {
     "name": "stdout",
     "output_type": "stream",
     "text": [
      "html\n",
      "{http://www.w3.org/1999/xhtml}script\n",
      "{http://www.w3.org/1999/xhtml}script\n"
     ]
    }
   ],
   "source": [
    "root = etree.Element('{http://www.w3.org/1999/xhtml}html')\n",
    "tag = etree.QName(root)\n",
    "print(tag.localname)\n",
    "\n",
    "tag = etree.QName(root, 'script')\n",
    "print(tag.text)\n",
    "\n",
    "tag = etree.QName('{http://www.w3.org/1999/xhtml}html', 'script')\n",
    "print(tag.text)"
   ]
  },
  {
   "cell_type": "markdown",
   "metadata": {},
   "source": [
    "lxml.etree allows you to look up the current namespaces defined for a node through the **.nsmap** property:"
   ]
  },
  {
   "cell_type": "code",
   "execution_count": 21,
   "metadata": {},
   "outputs": [
    {
     "data": {
      "text/plain": [
       "{None: 'http://www.w3.org/1999/xhtml'}"
      ]
     },
     "execution_count": 21,
     "metadata": {},
     "output_type": "execute_result"
    }
   ],
   "source": [
    "xhtml.nsmap"
   ]
  },
  {
   "cell_type": "markdown",
   "metadata": {},
   "source": [
    "Note, however, that this includes all prefixes known in the context of an Element, not only those that it defines itself."
   ]
  },
  {
   "cell_type": "code",
   "execution_count": 22,
   "metadata": {},
   "outputs": [
    {
     "data": {
      "text/plain": [
       "1"
      ]
     },
     "execution_count": 22,
     "metadata": {},
     "output_type": "execute_result"
    }
   ],
   "source": [
    "root = etree.Element('root', nsmap={'a': 'http://a.b/c'})\n",
    "child = etree.SubElement(root, 'child',\n",
    "                         nsmap={'b': 'http://b.c/d'})\n",
    "len(root.nsmap)"
   ]
  },
  {
   "cell_type": "code",
   "execution_count": 23,
   "metadata": {},
   "outputs": [
    {
     "data": {
      "text/plain": [
       "2"
      ]
     },
     "execution_count": 23,
     "metadata": {},
     "output_type": "execute_result"
    }
   ],
   "source": [
    "len(child.nsmap)"
   ]
  },
  {
   "cell_type": "code",
   "execution_count": 25,
   "metadata": {},
   "outputs": [
    {
     "data": {
      "text/plain": [
       "'http://a.b/c'"
      ]
     },
     "execution_count": 25,
     "metadata": {},
     "output_type": "execute_result"
    }
   ],
   "source": [
    "child.nsmap['a']"
   ]
  },
  {
   "cell_type": "code",
   "execution_count": 26,
   "metadata": {},
   "outputs": [
    {
     "data": {
      "text/plain": [
       "'http://b.c/d'"
      ]
     },
     "execution_count": 26,
     "metadata": {},
     "output_type": "execute_result"
    }
   ],
   "source": [
    "child.nsmap['b']"
   ]
  }
 ],
 "metadata": {
  "kernelspec": {
   "display_name": "Python 3",
   "language": "python",
   "name": "python3"
  },
  "language_info": {
   "codemirror_mode": {
    "name": "ipython",
    "version": 3
   },
   "file_extension": ".py",
   "mimetype": "text/x-python",
   "name": "python",
   "nbconvert_exporter": "python",
   "pygments_lexer": "ipython3",
   "version": "3.8.1"
  }
 },
 "nbformat": 4,
 "nbformat_minor": 4
}
